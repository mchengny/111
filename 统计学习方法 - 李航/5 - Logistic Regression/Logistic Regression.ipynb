{
 "cells": [
  {
   "cell_type": "markdown",
   "metadata": {},
   "source": [
    "# Logistic Regression"
   ]
  },
  {
   "cell_type": "code",
   "execution_count": 9,
   "metadata": {
    "collapsed": true
   },
   "outputs": [],
   "source": [
    "import numpy as np\n",
    "from matplotlib import pyplot as plt\n",
    "%matplotlib inline\n",
    "\n",
    "class LogisticRegression():\n",
    "    \n",
    "    \n",
    "    def __init__(self, num_iterations=1000, learning_rate=0.01):\n",
    "        \"\"\"\n",
    "        Initialize the parameters of LR model\n",
    "        \n",
    "        Arguments:\n",
    "        num_iterations -- number of iterations of the optimization loop\n",
    "        learning_rate -- learning rate of the gradient descent update rule\n",
    "        \n",
    "        \"\"\"\n",
    "        self.num_iterations = num_iterations\n",
    "        self.learning_rate = learning_rate\n",
    "        \n",
    "        return None\n",
    "    \n",
    "    \n",
    "    def sigmoid(self, x):\n",
    "        \"\"\"\n",
    "        Compute the sigmoid of x\n",
    "\n",
    "        Argument:\n",
    "        x -- A scalar or numpy array of any size\n",
    "\n",
    "        Return:\n",
    "        s -- sigmoid(x)\n",
    "        \n",
    "        \"\"\" \n",
    "        s = 1.0 / (1+np.exp(-x))\n",
    "    \n",
    "        return s\n",
    "    \n",
    "    \n",
    "    def propagate(self, X, Y):\n",
    "        \"\"\"\n",
    "        Implement the cost function and its gradient for the propagation explained above\n",
    "\n",
    "        Arguments:\n",
    "        X -- data with the shape of [n_samples, n_features]\n",
    "        Y -- true \"label\" vector with the shape of [n_samples, 1] \n",
    "\n",
    "        Returns:\n",
    "        cost -- negative log-likelihood cost for logistic regression\n",
    "        dw -- gradient of the loss with respect to w, thus same shape as w\n",
    "        db -- gradient of the loss with respect to b, thus same shape as b\n",
    "    \n",
    "        \"\"\"        \n",
    "        m = X.shape[1]\n",
    "        # Forward propagation(from x_train to cost)\n",
    "        A = self.sigmoid(np.dot(X, self.w) + self.b).T\n",
    "        cost = np.sum( - np.dot(np.log(A), Y) - np.dot(np.log(1-A), 1-Y)) / m\n",
    "        # Backward propagation(to calculate gradient)\n",
    "        dw = np.dot(A-Y, X) / m\n",
    "        db = np.sum(A-Y) / m\n",
    "        \n",
    "        grads = {'dw':dw, \n",
    "                 'db':db}\n",
    "        \n",
    "        return grads, cost        \n",
    "\n",
    "        \n",
    "    def optimize(self, X, Y, print_cost=False):\n",
    "        \"\"\"\n",
    "        This function optimizes w and b by running a gradient descent algorithm\n",
    "    \n",
    "        Arguments:\n",
    "        X -- data with the shape of [n_samples, n_features]\n",
    "        Y -- true \"label\" vector with the shape of [n_samples, 1]\n",
    "        print_cost -- True to print the loss every 100 steps\n",
    "    \n",
    "        Return:\n",
    "        costs -- list of all the costs computed during the optimization\n",
    "    \n",
    "        \"\"\"        \n",
    "        # Initialize the weights and bias \n",
    "        dim = X.shape[1]\n",
    "        self.w = np.zeros([dim,1])\n",
    "        self.b = 0\n",
    "        \n",
    "        # Begin to iterate\n",
    "        costs = []\n",
    "        for i in range(self.num_iterations):\n",
    "            # Gradient and cost calculation\n",
    "            grads, cost = self.propagate(X,Y)\n",
    "            \n",
    "            # Retrive derivatives from grads\n",
    "            dw = grads['dw']\n",
    "            db = grads['db']\n",
    "            \n",
    "            # Update rule\n",
    "            self.w = self.w - self.learning_rate * dw.T\n",
    "            self.b = self.b - self.learning_rate * db\n",
    "            \n",
    "            # Record the costs\n",
    "            if i%1000 == 0:\n",
    "                costs.append(cost)\n",
    "            # Print the cost every 100 iterations\n",
    "            if print_cost and i%1000 == 0:\n",
    "                print('Cost after iteration %i: %f' %(i, cost))\n",
    "                \n",
    "        return costs\n",
    "    \n",
    "    \n",
    "    def predict(self, X):\n",
    "        \"\"\"\n",
    "        Predict whether the label is 0 or 1 using learned logistic regression parameters (w, b)\n",
    "    \n",
    "        Argument:\n",
    "        X -- data with the shape of [n_samples, n_features]\n",
    "    \n",
    "        Return:\n",
    "        Y_predictions -- a numpy array (vector) containing all predictions (0/1) for the examples in X\n",
    "        \n",
    "        \"\"\"\n",
    "        # Compute vector \"A\"  that are the values of activation functions of wx+b\n",
    "        A = self.sigmoid(np.dot(x, self.w) + b)\n",
    "        Y_predictions = []\n",
    "        for i in range(len(A)):\n",
    "            if i <= 0.5:\n",
    "                Y_predictions.append(0)\n",
    "            else:\n",
    "                Y_predictions.append(1)\n",
    "        \n",
    "        return np.array(Y_predictions)\n",
    "    \n",
    "    \n",
    "    def fit(self, X_train, Y_train, print_cost=True, draw_costs_curve=True):\n",
    "        \"\"\"\n",
    "        Fit the training dataset and print costs\n",
    "        \n",
    "        Arguments:\n",
    "        X -- data with the shape of [n_samples, n_features]\n",
    "        Y -- true \"label\" vector with the shape of [n_samples, 1]\n",
    "        print_cost -- True to print the loss every 100 steps\n",
    "        draw_costs_curve -- True to draw the loos every 100 steps\n",
    "        \n",
    "        \"\"\"\n",
    "        # Training the data with gradient descent\n",
    "        costs = self.optimize(X_train, Y_train, print_cost)\n",
    "        # Whether need to draa the loss curve\n",
    "        if draw_costs_curve == True:\n",
    "            plt.plot(costs)\n",
    "            plt.ylabel('loss')\n",
    "            plt.xlabel('unit per 100 iterations')\n",
    "            plt.title('Loss trend of training data')\n",
    "            \n",
    "        return None\n",
    "        "
   ]
  },
  {
   "cell_type": "markdown",
   "metadata": {},
   "source": [
    "### Test"
   ]
  },
  {
   "cell_type": "markdown",
   "metadata": {},
   "source": [
    "#### generate artificial samples"
   ]
  },
  {
   "cell_type": "code",
   "execution_count": 10,
   "metadata": {
    "collapsed": true
   },
   "outputs": [],
   "source": [
    "x = np.array([[3,3], [4,3], [1,2.5], [0.5,0.5], [2,2], [1,5], [2.5,1.5], [3.5,2.5], [1.5,3], [1.5,2], \n",
    "              [1.0,4.5], [2,4.5], [3,4.5],[0.7,3.7], [3,2]])\n",
    "y = np.array([1, 1, 0, 0, 0, 1, 0, 1, 0, 0, 1, 1, 1,0, 0 ])"
   ]
  },
  {
   "cell_type": "markdown",
   "metadata": {},
   "source": [
    "#### training model"
   ]
  },
  {
   "cell_type": "code",
   "execution_count": 12,
   "metadata": {},
   "outputs": [
    {
     "data": {
      "image/png": "[encoded data removed]",
      "text/plain": [
       "<matplotlib.figure.Figure at 0x6a3da66048>"
      ]
     },
     "metadata": {},
     "output_type": "display_data"
    }
   ],
   "source": [
    "model = LogisticRegression(num_iterations=100000)\n",
    "model.fit(x,y, print_cost=False)"
   ]
  },
  {
   "cell_type": "markdown",
   "metadata": {},
   "source": [
    "#### Visualization"
   ]
  },
  {
   "cell_type": "code",
   "execution_count": 13,
   "metadata": {},
   "outputs": [
    {
     "data": {
      "image/png": "[encoded data removed]",
      "text/plain": [
       "<matplotlib.figure.Figure at 0x6a3c739a58>"
      ]
     },
     "metadata": {},
     "output_type": "display_data"
    }
   ],
   "source": [
    "# 计算超平面与坐标轴的交点\n",
    "x1_1 = - model.b / model.w[0]\n",
    "x2_1 = - model.b / model.w[1]\n",
    "# 可视化超平面与训练数据的关系\n",
    "fig_1 = plt.scatter(x[:,0], x[:,1], c=y)\n",
    "fig_1 = plt.plot([0,x1_1], [x2_1,0])"
   ]
  }
 ],
 "metadata": {
  "kernelspec": {
   "display_name": "Python 3",
   "language": "python",
   "name": "python3"
  },
  "language_info": {
   "codemirror_mode": {
    "name": "ipython",
    "version": 3
   },
   "file_extension": ".py",
   "mimetype": "text/x-python",
   "name": "python",
   "nbconvert_exporter": "python",
   "pygments_lexer": "ipython3",
   "version": "3.6.3"
  }
 },
 "nbformat": 4,
 "nbformat_minor": 2
}
