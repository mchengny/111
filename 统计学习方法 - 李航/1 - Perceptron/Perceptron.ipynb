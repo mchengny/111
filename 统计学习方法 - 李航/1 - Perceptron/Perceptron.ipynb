{
 "cells": [
  {
   "cell_type": "markdown",
   "metadata": {},
   "source": [
    "# Perceptron Learning Algorithm"
   ]
  },
  {
   "cell_type": "markdown",
   "metadata": {},
   "source": [
    "### 1 - original format of algorithm"
   ]
  },
  {
   "cell_type": "code",
   "execution_count": 1,
   "metadata": {
    "collapsed": true
   },
   "outputs": [],
   "source": [
    "import numpy as np\n",
    "\n",
    "class Perceptron_origin():\n",
    "    \n",
    "    def __init__(self, learning_rate=0.01): \n",
    "        \"\"\"\n",
    "        Initialize the parameters of perceptron model\n",
    "        \n",
    "        Argument:\n",
    "        learning_rate -- learning rate of the gradient descent update rule\n",
    "        \"\"\"\n",
    "        # initialihe basic parameter\n",
    "        self.learning_rate = learning_rate\n",
    "\n",
    "    \n",
    "    def fit(self, x_train, y_train, num_iterations=1000):\n",
    "        \"\"\"\n",
    "        Predict class labels for samples in X\n",
    "        \n",
    "        Arguments:\n",
    "        x_train -- {array-like, sparse matrix}, shape = [n_samples, n_features]\n",
    "        y_train -- {array-like}, shape = [n_samples, 1]\n",
    "        num_iterations -- number of iterations of the optimization loop\n",
    "            \n",
    "        Returns:\n",
    "        End -- has calculated parameters w and b successfully.\n",
    "        \"\"\"\n",
    "        # get shape of space of feature-vector\n",
    "        num_x = np.shape(x_train)[0]\n",
    "        dim_x = np.shape(x_train)[1]\n",
    "        \n",
    "        # initialize weights and bias\n",
    "        self.w = np.zeros(dim_x)\n",
    "        self.b = 0\n",
    "        \n",
    "        # go into loops for optimazation \n",
    "        while num_iterations:\n",
    "            # pick a point randomly\n",
    "            i = np.random.randint(0, num_x)\n",
    "            x = x_train[i]\n",
    "            y = y_train[i]\n",
    "            # predict the instance by current model\n",
    "            y_hat = self.predict(x)\n",
    "            # if the prediction is wrong, then implement gradient descent  \n",
    "            if y*y_hat <= 0:\n",
    "                self.w += self.learning_rate * y * x\n",
    "                self.b += self.learning_rate * y\n",
    "                \n",
    "            # loops for iterations minus 1\n",
    "            num_iterations -= 1\n",
    "            \n",
    "\n",
    "    def sign(self, x):\n",
    "        \"\"\"\n",
    "        Sign function that if x>=0 return +1, if x<0 return -1 \n",
    "    \n",
    "        Argument:\n",
    "        x -- input value, type = np.float64 \n",
    "    \n",
    "        Returns:\n",
    "        sign of input value, which represents the positive by +1 and the negative by -1\n",
    "        \"\"\"\n",
    "        # judge whether the input is positive\n",
    "        if x >= 0:\n",
    "            return +1\n",
    "        else:\n",
    "            return -1\n",
    "        \n",
    "        \n",
    "    def predict(self, x):\n",
    "        \"\"\"\n",
    "        Infer the result of model by given x\n",
    "    \n",
    "        Argument:\n",
    "        x -- feature vector of an instance, shape = [1, n_features]\n",
    "    \n",
    "        Returns:\n",
    "        Inference result of the given instance,type = np.float64\n",
    "        \"\"\"\n",
    "        # calculate the dot production of weights and feature-vector, finally plus the bias\n",
    "        y =np.dot(x, self.w) + self.b\n",
    "        \n",
    "        return self.sign(y)\n",
    "    "
   ]
  },
  {
   "cell_type": "markdown",
   "metadata": {},
   "source": [
    "### 2 - dual format of algorithm"
   ]
  },
  {
   "cell_type": "code",
   "execution_count": 13,
   "metadata": {
    "collapsed": true
   },
   "outputs": [],
   "source": [
    "import numpy as np\n",
    "\n",
    "class Perceptron_dual():\n",
    "    \n",
    "    def __init__(self, learning_rate=0.01): \n",
    "        \"\"\"\n",
    "        Initialize the parameters of perceptron model\n",
    "        \n",
    "        Argument:\n",
    "        learning_rate -- learning rate of the gradient descent update rule\n",
    "        \"\"\"\n",
    "        # initialihe basic parameter\n",
    "        self.learning_rate = learning_rate\n",
    "        \n",
    "    \n",
    "    def fit(self, x_train, y_train, num_iterations=1000):\n",
    "        \"\"\"\n",
    "        Predict class labels for samples in X\n",
    "        \n",
    "        Arguments:\n",
    "        x_train -- {array-like, sparse matrix}, shape = [n_samples, n_features]\n",
    "        y_train -- {array-like}, shape = [n_samples, 1]\n",
    "        num_iterations -- number of iterations of the optimization loop\n",
    "            \n",
    "        Returns:\n",
    "        End -- has calculated parameters w and b successfully.\n",
    "        \"\"\"\n",
    "        # add training data into class attributes\n",
    "        self.x = x_train\n",
    "        self.y = y_train\n",
    "        \n",
    "        # get shape of space of feature-vector\n",
    "        num_x = np.shape(self.x)[0]\n",
    "        dim_x = np.shape(self.x)[1]\n",
    "        \n",
    "        # calculate the Gram matrix\n",
    "        self.gram = np.zeros([num_x, num_x])\n",
    "        for i in range(num_x):\n",
    "            for j in range(num_x):\n",
    "                self.gram[i,j] = np.dot(self.x[i], self.x[j])\n",
    "        \n",
    "        # initialize alpha-array and bias\n",
    "        self.alpha = np.zeros(num_x)\n",
    "        self.b = 0\n",
    "        \n",
    "        # go into loops for optimazation \n",
    "        while num_iterations:\n",
    "            # pick the index of an instance randomly\n",
    "            i = np.random.randint(0, num_x)\n",
    "            # predict the instance by current model\n",
    "            y_hat = self.decision_func(i)\n",
    "            # if the prediction is wrong, then implement gradient descent\n",
    "            if self.y[i]*y_hat <= 0:\n",
    "                self.alpha[i] += self.learning_rate\n",
    "                self.b += self.learning_rate * self.y[i]\n",
    "            \n",
    "            # loops for iterations minus 1\n",
    "            num_iterations -= 1\n",
    "        \n",
    "        # calculate the final combination of weights\n",
    "        self.w = np.dot(self.alpha*self.y, self.x)\n",
    "    \n",
    "    def sign(self, x):\n",
    "        \"\"\"\n",
    "        Sign function that if x>=0 return +1, if x<0 return -1 \n",
    "    \n",
    "        Argument:\n",
    "        x -- input value, type = np.float64 \n",
    "    \n",
    "        Returns:\n",
    "        sign of input value, which represents the positive by +1 and the negative by -1\n",
    "        \"\"\"\n",
    "        # judge whether the input is positive\n",
    "        if x >= 0:\n",
    "            return +1\n",
    "        else:\n",
    "            return -1\n",
    "        \n",
    "        \n",
    "    def decision_func(self, i):\n",
    "        \"\"\"\n",
    "        Infer the result of model under in training \n",
    "    \n",
    "        Argument:\n",
    "        i -- the index of picked instance of feature-vector\n",
    "    \n",
    "        Returns:\n",
    "        Inference result of the given instance,type = np.float64\n",
    "        \"\"\"\n",
    "        # use gram matrix to calculate current weights and bias\n",
    "        wx = 0\n",
    "        for j in range(len(self.y)):\n",
    "            wx_j = self.alpha[j] * self.y[j] * self.gram[j,i]\n",
    "            wx += wx_j\n",
    "        # calculate wx+b\n",
    "        y = wx + self.b\n",
    "        \n",
    "        return self.sign(y)\n",
    "    \n",
    "    \n",
    "    def predict(self, x):\n",
    "        \"\"\"\n",
    "        Infer the result of model by given x with unknown y\n",
    "    \n",
    "        Argument:\n",
    "        x -- feature vector of an instance, shape = [1, n_features]\n",
    "    \n",
    "        Returns:\n",
    "        Inference result of the given instance,type = np.float64\n",
    "        \"\"\"\n",
    "        # calculate wx+b\n",
    "        y = np.dot(self.w, x) + self.b\n",
    "        \n",
    "        return self.sign(y)\n",
    "    "
   ]
  },
  {
   "cell_type": "markdown",
   "metadata": {},
   "source": [
    "### Test"
   ]
  },
  {
   "cell_type": "code",
   "execution_count": 14,
   "metadata": {
    "collapsed": true
   },
   "outputs": [],
   "source": [
    "from matplotlib import pyplot as plt\n",
    "\n",
    "%matplotlib inline"
   ]
  },
  {
   "cell_type": "markdown",
   "metadata": {},
   "source": [
    "#### generate artificial samples"
   ]
  },
  {
   "cell_type": "code",
   "execution_count": 15,
   "metadata": {
    "collapsed": true
   },
   "outputs": [],
   "source": [
    "x = np.array([[3,3], [4,3], [1,2.5], [0.5,0.5], [2,2], [1,5], [2.5,1.5], [3.5,2.5], [1.5,3], [1.5,2], [1.0,4.5], [2,4.5], [3,4.5],\n",
    "              [0.7,3.7], [3,2]])\n",
    "y = np.array([1, 1, -1, -1, -1, 1, -1, 1, -1, -1, 1, 1, 1,-1, -1 ])"
   ]
  },
  {
   "cell_type": "markdown",
   "metadata": {},
   "source": [
    "#### training model and visualization"
   ]
  },
  {
   "cell_type": "markdown",
   "metadata": {},
   "source": [
    "- original model"
   ]
  },
  {
   "cell_type": "code",
   "execution_count": 54,
   "metadata": {
    "collapsed": true
   },
   "outputs": [],
   "source": [
    "model_1 = Perceptron_origin(learning_rate=0.01)\n",
    "model_1.fit(x,y, num_iterations=10000)"
   ]
  },
  {
   "cell_type": "code",
   "execution_count": 55,
   "metadata": {},
   "outputs": [
    {
     "data": {
      "image/png": "[encoded data removed]",
      "text/plain": [
       "<matplotlib.figure.Figure at 0xb32584b748>"
      ]
     },
     "metadata": {},
     "output_type": "display_data"
    }
   ],
   "source": [
    "# 计算超平面与坐标轴的交点\n",
    "x1_1 = - model_1.b / model_1.w[0]\n",
    "x2_1 = - model_1.b / model_1.w[1]\n",
    "# 可视化超平面与训练数据的关系\n",
    "fig_1 = plt.scatter(x[:,0], x[:,1], c=y)\n",
    "fig_1 = plt.plot([0,x1_1], [x2_1,0])"
   ]
  },
  {
   "cell_type": "markdown",
   "metadata": {},
   "source": [
    "- dual model"
   ]
  },
  {
   "cell_type": "code",
   "execution_count": 64,
   "metadata": {
    "collapsed": true
   },
   "outputs": [],
   "source": [
    "model_2 = Perceptron_dual(learning_rate=0.01)\n",
    "model_2.fit(x,y,num_iterations=10000)"
   ]
  },
  {
   "cell_type": "code",
   "execution_count": 65,
   "metadata": {},
   "outputs": [
    {
     "data": {
      "image/png": "[encoded data removed]",
      "text/plain": [
       "<matplotlib.figure.Figure at 0xb323a69f98>"
      ]
     },
     "metadata": {},
     "output_type": "display_data"
    }
   ],
   "source": [
    "x1_2 = - model_2.b / model_2.w[0]\n",
    "x2_2 = - model_2.b / model_2.w[1]\n",
    "# 可视化超平面与训练数据的关系\n",
    "fig_2 = plt.scatter(x[:,0], x[:,1], c=y)\n",
    "fig_2 = plt.plot([0,x2_2], [x2_2,0])"
   ]
  }
 ],
 "metadata": {
  "kernelspec": {
   "display_name": "Python 3",
   "language": "python",
   "name": "python3"
  },
  "language_info": {
   "codemirror_mode": {
    "name": "ipython",
    "version": 3
   },
   "file_extension": ".py",
   "mimetype": "text/x-python",
   "name": "python",
   "nbconvert_exporter": "python",
   "pygments_lexer": "ipython3",
   "version": "3.6.3"
  }
 },
 "nbformat": 4,
 "nbformat_minor": 2
}
