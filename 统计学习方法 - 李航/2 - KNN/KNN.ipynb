{
 "cells": [
  {
   "cell_type": "markdown",
   "metadata": {},
   "source": [
    "# K Nearest Neighbors"
   ]
  },
  {
   "cell_type": "markdown",
   "metadata": {},
   "source": [
    "### 1 - Define the node of Kd tree"
   ]
  },
  {
   "cell_type": "code",
   "execution_count": 36,
   "metadata": {
    "collapsed": true
   },
   "outputs": [],
   "source": [
    "class Kd_node():\n",
    "    \n",
    "    \n",
    "    # Define the node of Kd tree\n",
    "    def __init__(self, data=None, label=None, split=None, left=None, right=None):\n",
    "        \"\"\"\n",
    "        Initialize the parameters of node\n",
    "        \n",
    "        Arguments:\n",
    "        data -- feature vector of the input instance\n",
    "        label -- label of the input instance\n",
    "        split -- the spliting dimension\n",
    "        left -- left child node \n",
    "        right -- right child node\n",
    "        \n",
    "        \"\"\"\n",
    "        self.data = data\n",
    "        self.label = label\n",
    "        self.split = split\n",
    "        self.left = left\n",
    "        self.right = right\n",
    "        \n",
    "        return None\n",
    "    "
   ]
  },
  {
   "cell_type": "markdown",
   "metadata": {},
   "source": [
    "### 2 - Define KNN Classifier\n",
    "- Note: must transfer X_train to ndarray，and encode Y_train into np.float."
   ]
  },
  {
   "cell_type": "code",
   "execution_count": 1,
   "metadata": {
    "collapsed": true
   },
   "outputs": [],
   "source": [
    "import numpy as np\n",
    "\n",
    "class KNeighborsClassifier():\n",
    "    \n",
    "    \n",
    "    def __init__(self, k_neighbors=3):\n",
    "        # Define the num of k-nearest neighbors\n",
    "        self.k_neighbors = k_neighbors\n",
    "        return\n",
    "    \n",
    "    \n",
    "    def generate_KdTree(self, data_list, label_list):\n",
    "        \"\"\"\n",
    "        Generate the Kd tree by recursion method\n",
    "        \n",
    "        Arguments:\n",
    "        data_list -- a series of data points in feature space\n",
    "        label_list -- the corresponding labels of feature vectors\n",
    "        \n",
    "        Return:\n",
    "        root -- the root of generated Kd tree\n",
    "        \n",
    "        \"\"\"\n",
    "        # Recursion: Base line, split end when there is no point in subspcae\n",
    "        if len(data_list) == 0:\n",
    "            return None\n",
    "        \n",
    "        # Extract length and num of dimension of training data \n",
    "        num_data = data_list.shape[0]       \n",
    "        dim_data = data_list.shape[1] \n",
    "        \n",
    "        # Initialize max variance and splitting dimension\n",
    "        max_var = 0\n",
    "        split = 0\n",
    "        # Find the split dimension which has the max variance\n",
    "        for i in range(dim_data):\n",
    "            col_i = data_list[:, i]\n",
    "            var = np.var(col_i)\n",
    "            if var > max_var:\n",
    "                max_var = var\n",
    "                split = i      \n",
    "                \n",
    "        # Sort data_list and label_list along the splitted dimension\n",
    "        indexs = np.argsort([v[i] for v in data_list])\n",
    "        data_list = data_list[indexs]\n",
    "        label_list = label_list[indexs]\n",
    "        \n",
    "        # Choose the median of list as splitting point\n",
    "        data = data_list[int(num_data/2)]\n",
    "        label = label_list[int(num_data/2)]\n",
    "        # Generate current Kd node\n",
    "        root = Kd_node(data, label, split)\n",
    "        \n",
    "        # Recursion Call: generate left and right child node of current node\n",
    "        root.left = self.generate_KdTree(\n",
    "            data_list[0:int(num_data/2)], label_list[0:int(num_data/2)])\n",
    "        root.right = self.generate_KdTree(\n",
    "            data_list[int(num_data/2)+1 : num_data], label_list[int(num_data/2)+1 : num_data])\n",
    "        \n",
    "        # Return the root of this Kd tree\n",
    "        return root\n",
    "    \n",
    "    \n",
    "    def fit(self, X_train, Y_train):\n",
    "        \"\"\"\n",
    "        Fit training data\n",
    "        \n",
    "        Arguments:\n",
    "        X_train -- input training dataset,  shape = [n_samples, n_features]\n",
    "        Y_train -- labels of training data, shape = [n_samples]\n",
    " \n",
    "        \"\"\"\n",
    "        # Generate Kd tree and get the root of it\n",
    "        self.root = self.generate_KdTree(data_list=X_train, label_list=Y_train)\n",
    "        \n",
    "        return None\n",
    "    \n",
    "    \n",
    "    def predict(self, query):\n",
    "        \"\"\"\n",
    "        predict the corresponding label of query point\n",
    "        \n",
    "        Argument:\n",
    "         query -- data point waiting for classifying\n",
    "        \n",
    "        Return:\n",
    "        label -- the result of prediction\n",
    "        \n",
    "        \"\"\"\n",
    "        knn = self.find_knn(query)\n",
    "        label = self.vote(knn)\n",
    "        \n",
    "        return label\n",
    "    \n",
    "    \n",
    "    def find_knn(self, query):\n",
    "        \"\"\"\n",
    "        Find the k-nearest node in Kd tree\n",
    "        \n",
    "        Argument:\n",
    "        query: data point waiting for classifying\n",
    "        \n",
    "        Return:\n",
    "        knn -- the list of nodes which are k-nearest for query point\n",
    "        \n",
    "        \"\"\"\n",
    "        # Initialize a list for storing searching path\n",
    "        node_list = []\n",
    "        # initialize a list for storing k-nearest nodes\n",
    "        knn = []\n",
    "        # set root of Kd tree as current node\n",
    "        temp_root = self.root\n",
    "        \n",
    "        # Use binary search to create the searching path \n",
    "        while temp_root:\n",
    "            # add this point into searching path\n",
    "            node_list.append(temp_root)\n",
    "            # Judge and update the list fo k-nearest nodes\n",
    "            if len(knn) < self.k_neighbors:\n",
    "                knn.append(temp_root)\n",
    "            else:\n",
    "                knn = self.update_knn_list(knn, temp_root, query)\n",
    "            # Decide the next searching direction by splitted  dimension\n",
    "            split_dim = temp_root.split\n",
    "            if query[split_dim] < temp_root.data[split_dim]:\n",
    "                temp_root = temp_root.left\n",
    "            else:\n",
    "                temp_root = temp_root.right\n",
    "      \n",
    "        # Back track along the searched path\n",
    "        while node_list:\n",
    "            # Simulate stack by list: last-in and first-out\n",
    "            last_node = node_list.pop()\n",
    "            last_split = last_node.split\n",
    "            # Whether need to go into the other subspace  of parent node\n",
    "            temp_max_dist = self.max_dist(knn, query)\n",
    "            if abs(query[last_split] - last_node.data[last_split]) < temp_max_dist:\n",
    "                # Set the direction of subspace for searching\n",
    "                if query[last_split] <= last_node.data[last_split]:\n",
    "                    temp_root = last_node.right\n",
    "                else:\n",
    "                    temp_root = last_node.left \n",
    "                # Whether subspace exists\n",
    "                if temp_root:\n",
    "                    node_list.append(temp_root)\n",
    "                    # Update the knn list\n",
    "                    if len(knn) < self.k_neighbors:\n",
    "                        knn.append(temp_root)\n",
    "                    else:\n",
    "                        knn = self.update_knn_list(knn, temp_root, query)\n",
    "                        \n",
    "        return knn\n",
    "    \n",
    "    \n",
    "    def vote(self, knn):\n",
    "        \"\"\"\n",
    "        Vote that choose the label which appear most frequently in k-nearest nodes\n",
    "        \n",
    "        Argument:\n",
    "        knn_list --  node list of k-nearest neighbors\n",
    "        \n",
    "        Return:\n",
    "        label -- the label which appear most frequently in knn list\n",
    "        \n",
    "        \"\"\"\n",
    "        # Set a dict and its key represnts the label and value represents the frequency of appearance\n",
    "        d = {}\n",
    "        # Count frequency of each label\n",
    "        for node in knn:\n",
    "            if node.label in d:\n",
    "                d[node.label] += 1\n",
    "            else:\n",
    "                d[node.label] = 1\n",
    "        # Get the label which appear most frequently in knn list   \n",
    "        label = max(d, key=d.get)\n",
    "        \n",
    "        return label\n",
    "    \n",
    "    \n",
    "    def update_knn_list(self, knn_list, temp_node, query):\n",
    "        \"\"\"\n",
    "        Judge and update k-nearest neighbors\n",
    "        \n",
    "        Arguments:\n",
    "        knn_list -- current node list of k-nearest neighbors\n",
    "        temp_node -- temporary node \n",
    "        query -- data point waiting for classifying\n",
    "        \n",
    "        Return:\n",
    "        knn -- the list of nodes which are k-nearest for query point\n",
    "        \n",
    "        \"\"\"\n",
    "        # Get the distance between temp_node and query\n",
    "        current_dist = self.compute_dist(temp_node.data, query)\n",
    "        # Get k-neares nodes\n",
    "        knn = knn_list\n",
    "        # set max distance as zero\n",
    "        temp_max_dist = 0\n",
    "        \n",
    "        # Calculate the max distance in current knn nodes\n",
    "        for i in range(len(knn_list)):\n",
    "            feature_vector = knn_list[i].data\n",
    "            dist = self.compute_dist(feature_vector, query)\n",
    "            if dist > temp_max_dist:\n",
    "                temp_max_dist = dist\n",
    "                index_del = i\n",
    "                \n",
    "        # Whether need to replace a node in previous knn list \n",
    "        if current_dist < temp_max_dist:\n",
    "            del knn[index_del]\n",
    "            knn_list.append(temp_node)\n",
    "            \n",
    "        # Return the list of knn nodes after updating\n",
    "        return knn \n",
    "    \n",
    "    def compute_dist(self, v1, v2):\n",
    "        \"\"\"\n",
    "        Calculate the Euclidean distance between vector_1 and vector_2\n",
    "        \n",
    "        Arguments:\n",
    "        v1 -- the 1st input vector \n",
    "        v2 -- the 2nd input vector\n",
    "        \n",
    "        Return:\n",
    "        Euclidean distance between v1 and v2\n",
    "        \n",
    "        \"\"\"\n",
    "        return np.linalg.norm(v1-v2)\n",
    "    \n",
    "    \n",
    "    def max_dist(self, knn_list, query):\n",
    "        \"\"\"\n",
    "        Calculate the max distance between knn list and query point\n",
    "        \n",
    "        Arguments:\n",
    "        knn_list -- current node list of k-nearest neighbors\n",
    "        query -- data point waiting for classifying\n",
    "        \n",
    "        Return:\n",
    "        max_value -- the max distance \n",
    "        \n",
    "        \"\"\"\n",
    "        max_value = 0\n",
    "        for i in range(len(knn_list)):\n",
    "            dist = self.compute_dist(knn_list[i].data, query)\n",
    "            if dist > max_value:\n",
    "                max_value = dist\n",
    "                \n",
    "        return max_value\n",
    "    "
   ]
  },
  {
   "cell_type": "markdown",
   "metadata": {},
   "source": [
    "### Test"
   ]
  },
  {
   "cell_type": "code",
   "execution_count": 37,
   "metadata": {
    "collapsed": true
   },
   "outputs": [],
   "source": [
    "from matplotlib import pyplot as plt\n",
    "\n",
    "%matplotlib inline"
   ]
  },
  {
   "cell_type": "markdown",
   "metadata": {},
   "source": [
    "#### generate artificial samples"
   ]
  },
  {
   "cell_type": "code",
   "execution_count": 62,
   "metadata": {
    "collapsed": true
   },
   "outputs": [],
   "source": [
    "x = np.array([[3,3], [4,3], [1,2.5], [0.5,0.5], [2,2], [1,5], [2.5,1.5], [3.5,2.5], [1.5,3], [1.5,2],\n",
    "              [1.0,4.5],[2,4.5], [3,4.5],[0.7,3.7], [3,2]])\n",
    "y = np.array([1, 1, -1, -1, -1, 1, -1, 1, -1, -1, 1, 1, 1,-1, -1 ])"
   ]
  },
  {
   "cell_type": "markdown",
   "metadata": {},
   "source": [
    "#### training model"
   ]
  },
  {
   "cell_type": "code",
   "execution_count": 63,
   "metadata": {
    "collapsed": true
   },
   "outputs": [],
   "source": [
    "model = KNeighborsClassifier(3)\n",
    "model.fit(x,y)"
   ]
  },
  {
   "cell_type": "markdown",
   "metadata": {},
   "source": [
    "#### visualizing\n",
    "- 蓝色点为待查询点，其最邻近的三个值有两个'+1'，一个'-1'，因此分类结果输出'+1'"
   ]
  },
  {
   "cell_type": "code",
   "execution_count": 64,
   "metadata": {},
   "outputs": [
    {
     "name": "stdout",
     "output_type": "stream",
     "text": [
      "Prediction:  1\n"
     ]
    },
    {
     "data": {
      "image/png": "[encoded data removed]",
      "text/plain": [
       "<matplotlib.figure.Figure at 0x1d3f4df4e0>"
      ]
     },
     "metadata": {},
     "output_type": "display_data"
    }
   ],
   "source": [
    "fig_1 = plt.scatter(x[:,0], x[:,1], c=y)\n",
    "query = np.array([3.25, 2.5])\n",
    "fig_1 = plt.scatter(query[0], query[1], c='blue')\n",
    "print('Prediction: ', model.predict(query))"
   ]
  }
 ],
 "metadata": {
  "kernelspec": {
   "display_name": "Python 3",
   "language": "python",
   "name": "python3"
  },
  "language_info": {
   "codemirror_mode": {
    "name": "ipython",
    "version": 3
   },
   "file_extension": ".py",
   "mimetype": "text/x-python",
   "name": "python",
   "nbconvert_exporter": "python",
   "pygments_lexer": "ipython3",
   "version": "3.6.3"
  }
 },
 "nbformat": 4,
 "nbformat_minor": 2
}
