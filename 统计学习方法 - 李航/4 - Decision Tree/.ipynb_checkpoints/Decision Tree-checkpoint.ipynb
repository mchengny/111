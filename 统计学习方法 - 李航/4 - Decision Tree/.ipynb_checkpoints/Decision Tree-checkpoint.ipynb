{
 "cells": [
  {
   "cell_type": "markdown",
   "metadata": {},
   "source": [
    "# Decision Tree Classifier"
   ]
  },
  {
   "cell_type": "markdown",
   "metadata": {},
   "source": [
    "### 1 - Define the internal node"
   ]
  },
  {
   "cell_type": "code",
   "execution_count": 153,
   "metadata": {
    "collapsed": true
   },
   "outputs": [],
   "source": [
    "class Node():\n",
    "    \n",
    "    def __init__(self, left=None, right=None, split_feature=None, split_value=None):\n",
    "        \"\"\"\n",
    "        Initialize the parameters of internal node in decision tree\n",
    "        \n",
    "        Arguments:\n",
    "        left -- left child node of the node\n",
    "        right -- right child node of the node\n",
    "        split_feature -- the feature will be choosen to split current dataset\n",
    "        split_value -- the value of feature will be choosen to split current dataset\n",
    "        \n",
    "        \"\"\"\n",
    "        self.left = left\n",
    "        self.right = right\n",
    "        self.split_feature = split_feature\n",
    "        self.split_value = split_value\n",
    "        \n",
    "        return None\n",
    "    "
   ]
  },
  {
   "cell_type": "markdown",
   "metadata": {},
   "source": [
    "### 2 - Define the leaf node"
   ]
  },
  {
   "cell_type": "code",
   "execution_count": 154,
   "metadata": {
    "collapsed": true
   },
   "outputs": [],
   "source": [
    "class Leaf():\n",
    "    \n",
    "    def __init__(self, label=None):\n",
    "        \"\"\"\n",
    "        Initialize the parameter of leaf node in decision tree\n",
    "        \n",
    "        Argument:\n",
    "        label -- the result of classification \n",
    "       \n",
    "        \"\"\"\n",
    "        self.label = label\n",
    "        \n",
    "        return\n",
    "    "
   ]
  },
  {
   "cell_type": "markdown",
   "metadata": {},
   "source": [
    "### 3 - Decision Tree Classifier"
   ]
  },
  {
   "cell_type": "code",
   "execution_count": 174,
   "metadata": {
    "collapsed": true
   },
   "outputs": [],
   "source": [
    "import numpy as np\n",
    "\n",
    "# CART Model \n",
    "class DecisionTree():\n",
    "    \n",
    "    \n",
    "    def __init__(self, min_samples_leaf=1):\n",
    "        \"\"\"\n",
    "        Initialize the parameters of Decision Tree\n",
    "        \n",
    "        Arguments:\n",
    "        min_samples_leaf -- the minimum number of samples on each leaf node\n",
    "        root -- the root node of decision tree\n",
    "        \n",
    "        \"\"\"\n",
    "        self.min_samples_leaf = min_samples_leaf\n",
    "        self.root = None\n",
    "        \n",
    "        return None\n",
    "    \n",
    "    \n",
    "    def fit(self, X_train, Y_train):\n",
    "        \"\"\"\n",
    "        Fit model with training data\n",
    "        \n",
    "        Arguments:\n",
    "        X_train -- training dataset with the shape of [n_samples, n_features]\n",
    "        Y_train -- corresponding labels of training dataset, with the length of n_samples\n",
    "        \n",
    "        \"\"\"\n",
    "        # Create decision tree and get its root node\n",
    "        self.root = self.generate_tree(X_train, Y_train)\n",
    "        return None\n",
    "    \n",
    "    \n",
    "    def predict(self, query):\n",
    "        \"\"\"\n",
    "        Predict the unknown query data by model\n",
    "        \n",
    "        Argument:\n",
    "        query -- unknown feature vector waiting to be predicted\n",
    "        \n",
    "        Return:\n",
    "        pred -- prediction of input feature vector\n",
    "        \n",
    "        \"\"\"\n",
    "        # Set the root node as current node\n",
    "        temp_root = self.root\n",
    "        # Search along decision tree untile finding the leaf node\n",
    "        while isinstance(temp_root, Node):\n",
    "            # Get the dimension and value that we choose them to split dataset\n",
    "            dim = temp_root.split_feature\n",
    "            value = temp_root.split_value\n",
    "            # Find the next direction where current node gose\n",
    "            if query[dim] == value:\n",
    "                temp_root = temp_root.left\n",
    "            else:\n",
    "                temp_root = temp_root.right\n",
    "        # Get the label of last leaf node       \n",
    "        pred = list(temp_root.label)[0]   \n",
    "        return pred\n",
    "    \n",
    "    \n",
    "    def generate_tree(self, features, labels):\n",
    "        \"\"\"\n",
    "        Generate decision tree by gini index\n",
    "        \n",
    "        Arguments:\n",
    "        features -- a list of feature vectors, with the shape of [n_samples, n_features]\n",
    "        labels -- the corresponding labels of feature vectors\n",
    "        \n",
    "        Returns:\n",
    "        root -- the root node of decision tree\n",
    "        leaf -- the final leaf node \n",
    "        \n",
    "        \"\"\"\n",
    "        # Get distribution of probs \n",
    "        probs = self.compute_prob(labels)\n",
    "        # Recursion baseline: whether end the growth of decision tree\n",
    "        if len(probs) == 1:\n",
    "            label = probs.keys()\n",
    "            return Leaf(label)\n",
    "        if len(labels)<=self.min_samples_leaf:\n",
    "            label = max(probs, key=probs.get)\n",
    "            return Leaf(label)\n",
    "        \n",
    "        # Get length and dimensions of dataset\n",
    "        num_data = features.shape[0]\n",
    "        dim_data = features.shape[1]\n",
    "        # Initialize gini index and the optimal spliting dimension and value \n",
    "        min_gini = 1\n",
    "        split_dim = None\n",
    "        split_value = None\n",
    "        # Traverse all the possible dimensions and values\n",
    "        for dim in range(dim_data):\n",
    "            for value in np.unique(features[:,dim]):\n",
    "                con_gini = self.compute_con_gini(features, labels, split_dim=dim, split_value=value)\n",
    "                if con_gini <= min_gini:\n",
    "                    min_gini = con_gini\n",
    "                    split_dim = dim\n",
    "                    split_value = value          \n",
    "        # Create current node by optimal spliting dimension and value \n",
    "        root = Node(split_feature=split_dim, split_value=split_value)\n",
    "        \n",
    "        # Recursion call: create the child node under root\n",
    "        left_index = np.where(features[:,split_dim]==split_value)\n",
    "        root.left = self.generate_tree(features[left_index], labels[left_index])\n",
    "        right_index = np.where(features[:,split_dim]!=split_value)\n",
    "        root.right = self.generate_tree(features[right_index], labels[right_index])\n",
    "        \n",
    "        return root\n",
    "        \n",
    "    \n",
    "    def compute_prob(self, data_list):\n",
    "        \"\"\"\n",
    "        Compute probabilities of each kind of value\n",
    "        \n",
    "        Argument:\n",
    "        data_list -- a list of labels, with the length of n_samples\n",
    "       \n",
    "        Return:\n",
    "        probs -- probabilities of each value in data_list\n",
    "        \n",
    "        \"\"\"\n",
    "        # Get the total number of data points\n",
    "        num = len(data_list)\n",
    "        # Calculate probabilities respectively\n",
    "        probs = {}\n",
    "        for n in data_list:\n",
    "            if n in probs:\n",
    "                probs[n] += 1 / num\n",
    "            else:\n",
    "                probs[n] = 1 / num\n",
    "                \n",
    "        return probs\n",
    "    \n",
    "    \n",
    "    def compute_gini(self, data_list):\n",
    "        \"\"\"\n",
    "        Compute the gini index\n",
    "        \n",
    "        Argument:\n",
    "        data_list -- a list of labels, with the length of n_samples\n",
    "       \n",
    "        Return:\n",
    "        gini -- gini index \n",
    "        \n",
    "        \"\"\"\n",
    "        # Calculate gini index of input data_list \n",
    "        gini = 1\n",
    "        probs = self.compute_prob(data_list)\n",
    "        for i in probs.values():\n",
    "            gini -= np.square(i)\n",
    "        \n",
    "        return gini \n",
    "    \n",
    "\n",
    "    def compute_con_gini(self, data_list, label_list, split_dim, split_value):\n",
    "        \"\"\"\n",
    "        Compute the conditional gini index under splitted dataset\n",
    "        \n",
    "        Arguments:\n",
    "        data_list -- a list of feature vectors, with the shape of [n_samples, n_features]\n",
    "        label_list -- the corresponding labels of feature vectors\n",
    "        split_dim -- the dimension that dataset will be splitted by\n",
    "        split_value -- the value that dataset will be splitted by\n",
    "                \n",
    "        Return:\n",
    "        con_gini -- conditional gini index \n",
    "        \n",
    "        \"\"\"\n",
    "        # Split label_list into two groups by split_dim and split_value\n",
    "        index = np.where(data_list[:,split_dim]==split_value)\n",
    "        subset_1 = label_list[index]\n",
    "        index = np.where(data_list[:,split_dim]!=split_value)\n",
    "        subset_2 = label_list[index]\n",
    "        # Calculate the weights of each splitted group\n",
    "        w1 = len(subset_1) / len(label_list)\n",
    "        w2 = len(subset_2) / len(label_list)\n",
    "        # Get the conditional gini index\n",
    "        con_gini = w1*self.compute_gini(subset_1) + w2*self.compute_gini(subset_2)\n",
    "        \n",
    "        return con_gini\n",
    "    "
   ]
  },
  {
   "cell_type": "markdown",
   "metadata": {},
   "source": [
    "### Test"
   ]
  },
  {
   "cell_type": "markdown",
   "metadata": {},
   "source": [
    "*P58 例 5.1*  \n",
    "如下表所示，是一个由15个样本组成的贷款申请训练数据。数据包括贷款申请人的4个特征（属性）：第1个特征是年龄，有3个可能值：青年，中年，老年；第2个特征是有工作，有2个可能值：是，否；第3个特征是有自己的房子，有2个可能值：是，否；第4个特征是信贷情况，有3个可能值：非常好，好，一般。表的最后一列是类别，是否同意贷款，取2个值：是，否。"
   ]
  },
  {
   "cell_type": "markdown",
   "metadata": {},
   "source": [
    "|  ID | 年龄 | 有工作 | 有自己的房子 | 信贷情况 | 类别 |\n",
    "| :--:| :--: | :----: | :----------: | :------: | :--: |\n",
    "|  1  | 青年 |  否   |    否     |  一般   |  否  |\n",
    "|  2  | 青年 |  否   |    否     |   好   |  否  |\n",
    "|  3  | 青年 |  是   |    否     |   好   |  是  |\n",
    "|  4  | 青年 |  是   |    是     |  一般   |  是  |\n",
    "|  5  | 青年 |  否   |    否     |  一般   |  否  |\n",
    "|  6  | 中年 |  否   |    否     |  一般   |  否  |\n",
    "|  7  | 中年 |  否   |    否     |   好   |  否  |\n",
    "|  8  | 中年 |  是   |    是     |   好   |  是  |\n",
    "|  9  | 中年 |  否   |    是     |  非常好  |  是  |\n",
    "| 10  | 中年 |  否   |    是     |  非常好  |  是  |\n",
    "| 11  | 老年 |  否   |    是     |  非常好  |  是  |\n",
    "| 12  | 老年 |  否   |    是     |   好   |  是  |\n",
    "| 13  | 老年 |  是   |    否     |   好   |  是  |\n",
    "| 14  | 老年 |  是   |    否     |  非常好  |  是  |\n",
    "| 15  | 老年 |  否   |    否     |  一般   |  否  |"
   ]
  },
  {
   "cell_type": "markdown",
   "metadata": {},
   "source": [
    "#### generate artificial samples"
   ]
  },
  {
   "cell_type": "code",
   "execution_count": 168,
   "metadata": {
    "collapsed": true
   },
   "outputs": [],
   "source": [
    "x = np.array([\n",
    "['青年', '否', '否', '  一般'],\n",
    "['青年', '否', '否', '    好'],\n",
    "['青年', '是', '否', '    好'],\n",
    "['青年', '是', '是', '  一般'],\n",
    "['青年', '否', '否', '  一般'],\n",
    "['中年', '否', '否', '  一般'],\n",
    "['中年', '否', '否', '    好'],\n",
    "['中年', '是', '是', '    好'],\n",
    "['中年', '否', '是', '非常好'],\n",
    "['中年', '否', '是', '非常好'],\n",
    "['老年', '否', '是', '非常好'],\n",
    "['老年', '否', '是', '    好'],\n",
    "['老年', '是', '否', '    好'],\n",
    "['老年', '是', '否', '非常好'],\n",
    "['老年', '否', '否', '  一般']\n",
    "])\n",
    "\n",
    "y = np.array(\n",
    "    ['否', '否', '是', '是', '否', '否', '否', '是', '是', '是', '是', '是', '是', '是', '否' ])"
   ]
  },
  {
   "cell_type": "markdown",
   "metadata": {},
   "source": [
    "#### creating and training model"
   ]
  },
  {
   "cell_type": "code",
   "execution_count": 171,
   "metadata": {
    "collapsed": true
   },
   "outputs": [],
   "source": [
    "model = DecisionTree()\n",
    "model.fit(x,y)"
   ]
  },
  {
   "cell_type": "markdown",
   "metadata": {},
   "source": [
    "#### predicting"
   ]
  },
  {
   "cell_type": "code",
   "execution_count": 172,
   "metadata": {},
   "outputs": [
    {
     "name": "stdout",
     "output_type": "stream",
     "text": [
      "Prediction: class =  是\n"
     ]
    }
   ],
   "source": [
    "query = np.array(['老年', '是', '否', '非常好'])\n",
    "pred = model.predict(query)\n",
    "print('Prediction: class = ', pred)"
   ]
  }
 ],
 "metadata": {
  "kernelspec": {
   "display_name": "Python 3",
   "language": "python",
   "name": "python3"
  },
  "language_info": {
   "codemirror_mode": {
    "name": "ipython",
    "version": 3
   },
   "file_extension": ".py",
   "mimetype": "text/x-python",
   "name": "python",
   "nbconvert_exporter": "python",
   "pygments_lexer": "ipython3",
   "version": "3.6.3"
  }
 },
 "nbformat": 4,
 "nbformat_minor": 2
}
