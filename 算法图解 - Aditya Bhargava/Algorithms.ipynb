{
 "cells": [
  {
   "cell_type": "markdown",
   "metadata": {},
   "source": [
    "# 算法图解"
   ]
  },
  {
   "cell_type": "markdown",
   "metadata": {},
   "source": [
    "## 第1章  算法介绍"
   ]
  },
  {
   "cell_type": "markdown",
   "metadata": {},
   "source": [
    "### 1.2 二分查找\n",
    "- binary_search(x)"
   ]
  },
  {
   "cell_type": "code",
   "execution_count": 160,
   "metadata": {
    "collapsed": true
   },
   "outputs": [],
   "source": [
    "import math\n",
    "\n",
    "\"\"\"利用二分法实现时间复杂度O(logn)的查找算法\"\"\"\n",
    "def binary_search(input_list, item):\n",
    "    # low/high用于跟踪要在列表其中查找的部分的上下界\n",
    "    low = 0\n",
    "    high = len(input_list) - 1\n",
    "    \n",
    "    # 只要范围没有缩小到只包含一个元素，就检查中间的元素\n",
    "    while low <= high:\n",
    "        mid = math.floor((low + high) / 2)\n",
    "        guess = input_list[mid]\n",
    "        \n",
    "        # 若找到元素，则返回其位置\n",
    "        if guess == item:\n",
    "            return mid\n",
    "        # 猜的数字大了，则缩小上边界\n",
    "        if guess > item:\n",
    "            high = mid - 1\n",
    "        # 猜的数字小了，则提高下边界\n",
    "        else:\n",
    "            low = mid + 1\n",
    "            \n",
    "    # 没有指定元素，返回None\n",
    "    return None"
   ]
  },
  {
   "cell_type": "code",
   "execution_count": 97,
   "metadata": {},
   "outputs": [
    {
     "data": {
      "text/plain": [
       "1"
      ]
     },
     "execution_count": 97,
     "metadata": {},
     "output_type": "execute_result"
    }
   ],
   "source": [
    "binary_search([1,3,5,7,9], 3)"
   ]
  },
  {
   "cell_type": "markdown",
   "metadata": {},
   "source": [
    "## 第2章 选择排序"
   ]
  },
  {
   "cell_type": "markdown",
   "metadata": {},
   "source": [
    "### 2.3 选择排序\n",
    "- selection_sort(x) "
   ]
  },
  {
   "cell_type": "code",
   "execution_count": 3,
   "metadata": {
    "collapsed": true
   },
   "outputs": [],
   "source": [
    "\"\"\"查找数组中最小值的索引\"\"\"\n",
    "def find_smallest(arr):\n",
    "    # 存储最小的值\n",
    "    smallest = arr[0]\n",
    "    # 存储最小值的索引\n",
    "    smallest_index = 0\n",
    "    for i in range(len(arr)):\n",
    "        if arr[i] < smallest:\n",
    "            smallest = arr[i]\n",
    "            smallest_index = i\n",
    "    \n",
    "    return smallest_index\n",
    "\n",
    "\n",
    "\"\"\"对数组进行选择排序\"\"\"\n",
    "def selection_sort(arr):\n",
    "    new_arr = []\n",
    "    # 找出数组中最小的元素，并将其加入到新数组中\n",
    "    for i in range(len(arr)):\n",
    "        smallest_index = find_smallest(arr)\n",
    "        new_arr.append(arr.pop(smallest_index))\n",
    "    \n",
    "    return new_arr"
   ]
  },
  {
   "cell_type": "code",
   "execution_count": 95,
   "metadata": {},
   "outputs": [
    {
     "data": {
      "text/plain": [
       "[2, 3, 5, 6, 10]"
      ]
     },
     "execution_count": 95,
     "metadata": {},
     "output_type": "execute_result"
    }
   ],
   "source": [
    "selection_sort([5,3,6,2,10])"
   ]
  },
  {
   "cell_type": "markdown",
   "metadata": {},
   "source": [
    "## 第3章 递归"
   ]
  },
  {
   "cell_type": "markdown",
   "metadata": {},
   "source": [
    "### 3.2.2 递归调用栈\n",
    "- factorize(x)"
   ]
  },
  {
   "cell_type": "code",
   "execution_count": 17,
   "metadata": {
    "collapsed": true
   },
   "outputs": [],
   "source": [
    "\"\"\"求取X的阶乘\"\"\"\n",
    "def factorize(x):\n",
    "    # 基线条件\n",
    "    if x == 1:\n",
    "        return 1\n",
    "    # 递归条件\n",
    "    else:\n",
    "        return x * factorize(x-1)"
   ]
  },
  {
   "cell_type": "code",
   "execution_count": 93,
   "metadata": {},
   "outputs": [
    {
     "data": {
      "text/plain": [
       "120"
      ]
     },
     "execution_count": 93,
     "metadata": {},
     "output_type": "execute_result"
    }
   ],
   "source": [
    "factorize(5)"
   ]
  },
  {
   "cell_type": "markdown",
   "metadata": {},
   "source": [
    "## 第4章 快速排序"
   ]
  },
  {
   "cell_type": "markdown",
   "metadata": {},
   "source": [
    "### 4.1 分而治之\n",
    "- dc_sum(x)\n",
    "- dc_count(x)\n",
    "- dc_max(x)"
   ]
  },
  {
   "cell_type": "code",
   "execution_count": 49,
   "metadata": {
    "collapsed": true
   },
   "outputs": [],
   "source": [
    "\"\"\"利用递归编写sum函数，计算列表元素的和\"\"\"\n",
    "def dc_sum(arr):\n",
    "    # 基线条件\n",
    "    if arr == []:\n",
    "        return 0\n",
    "    # 递归条件\n",
    "    else:\n",
    "        return arr[0] + dc_sum(arr[1:])"
   ]
  },
  {
   "cell_type": "code",
   "execution_count": 98,
   "metadata": {
    "collapsed": true
   },
   "outputs": [],
   "source": [
    "\"\"\"利用递归编写count函数，计算列表所包含的元素个数\"\"\"\n",
    "def dc_count(arr):\n",
    "    # 基线条件\n",
    "    if arr == []:\n",
    "        return 0 \n",
    "    # 递归条件\n",
    "    else:\n",
    "        return 1 + dc_count(arr[1:])"
   ]
  },
  {
   "cell_type": "code",
   "execution_count": 99,
   "metadata": {
    "collapsed": true
   },
   "outputs": [],
   "source": [
    "\"\"\"利用递归编写函数，找出列表中的最大值\"\"\"\n",
    "def dc_max(arr):\n",
    "    # 基线条件\n",
    "    if len(arr) == 2:\n",
    "        if arr[0] > arr[1]:\n",
    "            return arr[0]\n",
    "        else:\n",
    "            return arr[1]\n",
    "    # 递归条件\n",
    "    else:\n",
    "        sub_max = arr[1:]\n",
    "        if arr[0] > find_max(arr[1:]):\n",
    "            return arr[0]\n",
    "        else:\n",
    "            return find_max(arr[1:])"
   ]
  },
  {
   "cell_type": "code",
   "execution_count": 66,
   "metadata": {},
   "outputs": [
    {
     "name": "stdout",
     "output_type": "stream",
     "text": [
      "sum:  6\n",
      "num:  3\n",
      "max:  3\n"
     ]
    }
   ],
   "source": [
    "print('sum: ', dc_sum([1,2,3]))\n",
    "print('num: ', dc_count([1,2,3]))\n",
    "print('max: ', dc_max([1,2,3]))"
   ]
  },
  {
   "cell_type": "markdown",
   "metadata": {},
   "source": [
    "### 4.2 快速排序\n",
    "- quick_sort(x)"
   ]
  },
  {
   "cell_type": "code",
   "execution_count": 159,
   "metadata": {
    "collapsed": true
   },
   "outputs": [],
   "source": [
    "from random import random\n",
    "\n",
    "\"\"\"利用分而治之的思想，以递归方式实现快速排序\"\"\"\n",
    "def quick_sort(arr):\n",
    "    # 基线条件\n",
    "    if len(arr) <= 1:\n",
    "        return arr\n",
    "    # 递归条件\n",
    "    else:\n",
    "        # 随机选择pivot，以达到平均情况\n",
    "        index = round(random() * (len(arr)-1))\n",
    "        pivot = arr.pop(index)\n",
    "        # 分而治之\n",
    "        less = [i for i in arr if i<=pivot]\n",
    "        greater = [i for i in arr if i>pivot]\n",
    "        \n",
    "        return quick_sort(less) + [pivot] + quick_sort(greater)"
   ]
  },
  {
   "cell_type": "code",
   "execution_count": 138,
   "metadata": {},
   "outputs": [
    {
     "data": {
      "text/plain": [
       "[2, 3, 5, 10]"
      ]
     },
     "execution_count": 138,
     "metadata": {},
     "output_type": "execute_result"
    }
   ],
   "source": [
    "quick_sort([10,5,2,3])"
   ]
  },
  {
   "cell_type": "markdown",
   "metadata": {},
   "source": [
    "## 第六章 广度优先搜索"
   ]
  },
  {
   "cell_type": "markdown",
   "metadata": {},
   "source": [
    "### 6.3 广度优先搜索"
   ]
  },
  {
   "cell_type": "markdown",
   "metadata": {},
   "source": [
    "![graph1](images/graph1.png)"
   ]
  },
  {
   "cell_type": "markdown",
   "metadata": {},
   "source": [
    "#### 创建图：人际关系网 \n",
    "- graph"
   ]
  },
  {
   "cell_type": "code",
   "execution_count": 146,
   "metadata": {
    "collapsed": true
   },
   "outputs": [],
   "source": [
    "graph = {}\n",
    "graph['you'] = ['alice', 'bob', 'claire']\n",
    "graph['bob'] = ['anuj', 'peggy']\n",
    "graph['alice'] = ['peggy']\n",
    "graph['claire'] = ['thom', 'jonny']\n",
    "graph['anuj'] = []\n",
    "graph['peggy'] = []\n",
    "graph['thom'] = []"
   ]
  },
  {
   "cell_type": "markdown",
   "metadata": {},
   "source": [
    "#### 定义搜索函数\n",
    "- breadth_first_search(x)"
   ]
  },
  {
   "cell_type": "code",
   "execution_count": 168,
   "metadata": {
    "collapsed": true
   },
   "outputs": [],
   "source": [
    "from collections import deque\n",
    "\n",
    "\"\"\"利用广度优先搜索查找人际关系网络\"\"\"\n",
    "def breadth_first_search(name):\n",
    "    # 创建队列\n",
    "    search_queue = deque()\n",
    "    search_queue += graph[name]\n",
    "    # 初始化数组，用以记录已经检查过的人\n",
    "    searched = []\n",
    "    \n",
    "    while search_queue:\n",
    "        person = search_queue.popleft() \n",
    "        # 仅当此人未被检查过时，才进行检查\n",
    "        if person not in searched:\n",
    "            # 判断此人是否为芒果经销商\n",
    "            if person_is_seller(person):\n",
    "                print(person + ' is a mango seller')\n",
    "                return True\n",
    "            else:\n",
    "                # 将此人的人际关系加入队列\n",
    "                search_queue += graph[person]\n",
    "                # 将此人标记为已检查\n",
    "                searched.append(person)\n",
    "                \n",
    "    return False\n",
    "\n",
    "\n",
    "\"\"\"判断输入的人名是否为芒果经销商\"\"\"\n",
    "def person_is_seller(name):\n",
    "    # 以名字是否以字符'm'结尾判断\n",
    "    return name[-1] == 'm'"
   ]
  },
  {
   "cell_type": "code",
   "execution_count": 166,
   "metadata": {},
   "outputs": [
    {
     "name": "stdout",
     "output_type": "stream",
     "text": [
      "thom is a mango seller\n"
     ]
    },
    {
     "data": {
      "text/plain": [
       "True"
      ]
     },
     "execution_count": 166,
     "metadata": {},
     "output_type": "execute_result"
    }
   ],
   "source": [
    "breadth_first_search('you')"
   ]
  },
  {
   "cell_type": "markdown",
   "metadata": {},
   "source": [
    "## 第7章 狄克斯特拉算法"
   ]
  },
  {
   "cell_type": "markdown",
   "metadata": {},
   "source": [
    "### 7.5 实现"
   ]
  },
  {
   "cell_type": "markdown",
   "metadata": {},
   "source": [
    "![graph2](images/graph2.png)"
   ]
  },
  {
   "cell_type": "markdown",
   "metadata": {},
   "source": [
    "#### 创建图\n",
    "- graph 路径依赖"
   ]
  },
  {
   "cell_type": "code",
   "execution_count": 72,
   "metadata": {
    "collapsed": true
   },
   "outputs": [],
   "source": [
    "graph = {}\n",
    "\n",
    "graph['start'] = {}\n",
    "graph['start']['a'] = 6\n",
    "graph['start']['b'] = 2\n",
    "\n",
    "graph['a'] = {}\n",
    "graph['a']['fin'] = 1\n",
    "\n",
    "graph['b'] = {}\n",
    "graph['b']['a'] = 3\n",
    "graph['b']['fin'] = 5\n",
    "\n",
    "graph['fin'] = {}"
   ]
  },
  {
   "cell_type": "markdown",
   "metadata": {},
   "source": [
    "- costs 成本关系"
   ]
  },
  {
   "cell_type": "code",
   "execution_count": 70,
   "metadata": {
    "collapsed": true
   },
   "outputs": [],
   "source": [
    "infinity = float('inf')\n",
    "costs = {}\n",
    "costs['a'] = 6\n",
    "costs['b'] = 2\n",
    "costs['fin'] = infinity"
   ]
  },
  {
   "cell_type": "markdown",
   "metadata": {},
   "source": [
    "- parents 父节点"
   ]
  },
  {
   "cell_type": "code",
   "execution_count": 71,
   "metadata": {
    "collapsed": true
   },
   "outputs": [],
   "source": [
    "parents = {}\n",
    "parents['a'] = 'start'\n",
    "parents['b'] = 'start'\n",
    "parents['fin'] = None"
   ]
  },
  {
   "cell_type": "markdown",
   "metadata": {},
   "source": [
    "#### 查找当前最小开销\n",
    "- find_lowest_cost_node(x)"
   ]
  },
  {
   "cell_type": "code",
   "execution_count": 78,
   "metadata": {
    "collapsed": true
   },
   "outputs": [],
   "source": [
    "\"\"\"找出当前costs列表中，未被计算过的开销最低的点\"\"\"\n",
    "def find_lowest_cost_node(costs):\n",
    "    # 当前最低开销初始化为无穷大\n",
    "    lowest_cost = float('inf')\n",
    "    lowest_node = None\n",
    "    \n",
    "    # 遍历所有的节点\n",
    "    for node in costs:\n",
    "        cost = costs[node]\n",
    "        # 如果当前的节点开销更低且未处理过\n",
    "        if cost < lowest_cost and node not in processed_node:\n",
    "            # 则将该节点更新为开销最低的点\n",
    "            lowest_cost = cost\n",
    "            lowest_node = node\n",
    "            \n",
    "    # 若costs中所有点均被处理过，则返回None\n",
    "    return lowest_node"
   ]
  },
  {
   "cell_type": "markdown",
   "metadata": {},
   "source": [
    "#### 狄克斯特拉算法"
   ]
  },
  {
   "cell_type": "code",
   "execution_count": 86,
   "metadata": {},
   "outputs": [],
   "source": [
    "# 记录被处理过的点\n",
    "processed_node = []\n",
    "\n",
    "# 得到第一个开销最小的点\n",
    "node = find_lowest_cost_node(costs)\n",
    "\n",
    "# 在所有节点都被处理过后，循环结束\n",
    "while node is not None:\n",
    "    cost = costs[node]\n",
    "    neighbors = graph[node]\n",
    "    \n",
    "    # 遍历当前节点的所有邻居\n",
    "    for n in neighbors.keys():\n",
    "        new_cost = cost + neighbors[n]\n",
    "        # 如果经当前节点前往该邻居更近，则更新该邻居的开销和父节点\n",
    "        if new_cost < costs[n]:\n",
    "            costs[n] = new_cost\n",
    "            parents[n] = node\n",
    "            \n",
    "    # 将当前节点标记为已处理\n",
    "    processed_node.append(node)\n",
    "    # 计算接下来要处理的最小开销节点，并循环\n",
    "    node = find_lowest_cost_node(costs)"
   ]
  },
  {
   "cell_type": "code",
   "execution_count": 89,
   "metadata": {},
   "outputs": [
    {
     "name": "stdout",
     "output_type": "stream",
     "text": [
      "6\n"
     ]
    }
   ],
   "source": [
    "print(costs['fin'])"
   ]
  },
  {
   "cell_type": "markdown",
   "metadata": {},
   "source": [
    "## 第8章 贪婪算法"
   ]
  },
  {
   "cell_type": "markdown",
   "metadata": {},
   "source": [
    "### 8.3 集合覆盖问题"
   ]
  },
  {
   "cell_type": "markdown",
   "metadata": {},
   "source": [
    "![graph3](images/graph3.png)"
   ]
  },
  {
   "cell_type": "markdown",
   "metadata": {},
   "source": [
    "#### 准备工作"
   ]
  },
  {
   "cell_type": "markdown",
   "metadata": {},
   "source": [
    "- 创建集合，包含要覆盖的州"
   ]
  },
  {
   "cell_type": "code",
   "execution_count": 110,
   "metadata": {
    "collapsed": true
   },
   "outputs": [],
   "source": [
    "states_needed = set(['mt', 'wa', 'or', 'id', 'nv', 'ut'])"
   ]
  },
  {
   "cell_type": "markdown",
   "metadata": {},
   "source": [
    "- 可供选择的广播台清单"
   ]
  },
  {
   "cell_type": "code",
   "execution_count": 116,
   "metadata": {},
   "outputs": [],
   "source": [
    "stations = {}\n",
    "\n",
    "stations['kone'] = set(['id', 'nv', 'ut'])\n",
    "stations['ktwo'] = set(['wa', 'id', 'mt'])\n",
    "stations['kthree'] = set(['or', 'nv', 'ca'])\n",
    "stations['kfour'] = set(['nv', 'ut'])\n",
    "stations['kfive'] = set(['ca', 'az'])"
   ]
  },
  {
   "cell_type": "markdown",
   "metadata": {},
   "source": [
    "- 需要一个集合来存储最终选择的广播台"
   ]
  },
  {
   "cell_type": "code",
   "execution_count": 112,
   "metadata": {
    "collapsed": true
   },
   "outputs": [],
   "source": [
    "final_stations = set()"
   ]
  },
  {
   "cell_type": "markdown",
   "metadata": {},
   "source": [
    "#### 计算答案"
   ]
  },
  {
   "cell_type": "code",
   "execution_count": 117,
   "metadata": {},
   "outputs": [],
   "source": [
    "# 不断循环，直至没有州需要被覆盖\n",
    "while states_needed:\n",
    "    # 初始化当前覆盖范围最广的州为None\n",
    "    best_sation = None\n",
    "    states_covered = set()\n",
    "\n",
    "    # 选出一个电台，可覆盖最多未覆盖的州\n",
    "    for station,states in stations.items():\n",
    "        covered = states_needed & states\n",
    "        if len(covered) > len(states_covered):\n",
    "            best_station = station\n",
    "            states_covered = covered\n",
    "\n",
    "    #将当前的最优解添加到最终的集合中       \n",
    "    final_stations.add(best_station)\n",
    "    # 删除已经覆盖到的州\n",
    "    states_needed = states_needed - states_covered"
   ]
  },
  {
   "cell_type": "code",
   "execution_count": 118,
   "metadata": {},
   "outputs": [
    {
     "name": "stdout",
     "output_type": "stream",
     "text": [
      "{'kone', 'ktwo', 'kthree'}\n"
     ]
    }
   ],
   "source": [
    "print(final_stations)"
   ]
  }
 ],
 "metadata": {
  "kernelspec": {
   "display_name": "Python 3",
   "language": "python",
   "name": "python3"
  },
  "language_info": {
   "codemirror_mode": {
    "name": "ipython",
    "version": 3
   },
   "file_extension": ".py",
   "mimetype": "text/x-python",
   "name": "python",
   "nbconvert_exporter": "python",
   "pygments_lexer": "ipython3",
   "version": "3.6.3"
  }
 },
 "nbformat": 4,
 "nbformat_minor": 2
}
